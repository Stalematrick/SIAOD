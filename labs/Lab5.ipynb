{
 "cells": [
  {
   "cell_type": "markdown",
   "metadata": {
    "id": "WPvB9TcMmKA6"
   },
   "source": [
    "# Лабораторная работа №5\n",
    "# Рекурсия. Фракталы."
   ]
  },
  {
   "cell_type": "markdown",
   "metadata": {
    "id": "96Gi_LEvmSVH"
   },
   "source": [
    "## Выполнил студент группы Казыханов Рамиль Ильясович БВТ2004\n",
    "***"
   ]
  },
  {
   "cell_type": "markdown",
   "metadata": {
    "id": "4clYOyb0mbEv"
   },
   "source": [
    "### Задание:\n",
    "Реализовать генерацию заданного типа фрактала с применением рекурсивных функций.\n",
    "\n",
    "\n",
    "Добавить возможность задания глубины фрактала. \n",
    "\n",
    "\n",
    "Оценить глубину рекурсии. \n",
    "\n",
    "\n",
    "Построить таблицу зависимости времени построения от глубины фрактала."
   ]
  },
  {
   "cell_type": "markdown",
   "metadata": {
    "id": "wDXHbUmMmhRL"
   },
   "source": [
    "### Список фракталов:\n",
    "\n",
    "Кривая Коха\n",
    "| Кривая Гильберта\n",
    "| Кривая Серпинского\n",
    "| Салфетка Серпинского\n",
    "| Ковер Серпинского\n",
    "| Дерево Пифагора "
   ]
  },
  {
   "cell_type": "markdown",
   "metadata": {
    "id": "Wggfn8l7nG72"
   },
   "source": [
    "### Выполнение:"
   ]
  },
  {
   "cell_type": "code",
   "execution_count": 2,
   "metadata": {},
   "outputs": [
    {
     "name": "stdout",
     "output_type": "stream",
     "text": [
      "/Users/heat/.zshenv:1: permission denied: /Applications/Android Studio.app/Contents/jre/Contents/Home\n",
      "Requirement already satisfied: ipycanvas in /Library/Frameworks/Python.framework/Versions/3.10/lib/python3.10/site-packages (0.11.0)\n",
      "Requirement already satisfied: pillow>=6.0 in /Library/Frameworks/Python.framework/Versions/3.10/lib/python3.10/site-packages (from ipycanvas) (9.0.1)\n",
      "Requirement already satisfied: ipywidgets>=7.6.0 in /Library/Frameworks/Python.framework/Versions/3.10/lib/python3.10/site-packages (from ipycanvas) (7.7.0)\n",
      "Requirement already satisfied: numpy in /Library/Frameworks/Python.framework/Versions/3.10/lib/python3.10/site-packages (from ipycanvas) (1.22.3)\n",
      "Requirement already satisfied: jupyterlab-widgets>=1.0.0 in /Library/Frameworks/Python.framework/Versions/3.10/lib/python3.10/site-packages (from ipywidgets>=7.6.0->ipycanvas) (1.1.0)\n",
      "Requirement already satisfied: ipython-genutils~=0.2.0 in /Library/Frameworks/Python.framework/Versions/3.10/lib/python3.10/site-packages (from ipywidgets>=7.6.0->ipycanvas) (0.2.0)\n",
      "Requirement already satisfied: ipython>=4.0.0 in /Library/Frameworks/Python.framework/Versions/3.10/lib/python3.10/site-packages (from ipywidgets>=7.6.0->ipycanvas) (8.0.1)\n",
      "Requirement already satisfied: nbformat>=4.2.0 in /Library/Frameworks/Python.framework/Versions/3.10/lib/python3.10/site-packages (from ipywidgets>=7.6.0->ipycanvas) (5.1.3)\n",
      "Requirement already satisfied: ipykernel>=4.5.1 in /Library/Frameworks/Python.framework/Versions/3.10/lib/python3.10/site-packages (from ipywidgets>=7.6.0->ipycanvas) (6.8.0)\n",
      "Requirement already satisfied: widgetsnbextension~=3.6.0 in /Library/Frameworks/Python.framework/Versions/3.10/lib/python3.10/site-packages (from ipywidgets>=7.6.0->ipycanvas) (3.6.0)\n",
      "Requirement already satisfied: traitlets>=4.3.1 in /Library/Frameworks/Python.framework/Versions/3.10/lib/python3.10/site-packages (from ipywidgets>=7.6.0->ipycanvas) (5.1.1)\n",
      "Requirement already satisfied: debugpy<2.0,>=1.0.0 in /Library/Frameworks/Python.framework/Versions/3.10/lib/python3.10/site-packages (from ipykernel>=4.5.1->ipywidgets>=7.6.0->ipycanvas) (1.5.1)\n",
      "Requirement already satisfied: tornado<7.0,>=4.2 in /Library/Frameworks/Python.framework/Versions/3.10/lib/python3.10/site-packages (from ipykernel>=4.5.1->ipywidgets>=7.6.0->ipycanvas) (6.1)\n",
      "Requirement already satisfied: matplotlib-inline<0.2.0,>=0.1.0 in /Library/Frameworks/Python.framework/Versions/3.10/lib/python3.10/site-packages (from ipykernel>=4.5.1->ipywidgets>=7.6.0->ipycanvas) (0.1.3)\n",
      "Requirement already satisfied: jupyter-client<8.0 in /Library/Frameworks/Python.framework/Versions/3.10/lib/python3.10/site-packages (from ipykernel>=4.5.1->ipywidgets>=7.6.0->ipycanvas) (7.1.2)\n",
      "Requirement already satisfied: appnope in /Library/Frameworks/Python.framework/Versions/3.10/lib/python3.10/site-packages (from ipykernel>=4.5.1->ipywidgets>=7.6.0->ipycanvas) (0.1.2)\n",
      "Requirement already satisfied: nest-asyncio in /Library/Frameworks/Python.framework/Versions/3.10/lib/python3.10/site-packages (from ipykernel>=4.5.1->ipywidgets>=7.6.0->ipycanvas) (1.5.4)\n",
      "Requirement already satisfied: black in /Library/Frameworks/Python.framework/Versions/3.10/lib/python3.10/site-packages (from ipython>=4.0.0->ipywidgets>=7.6.0->ipycanvas) (22.1.0)\n",
      "Requirement already satisfied: prompt-toolkit!=3.0.0,!=3.0.1,<3.1.0,>=2.0.0 in /Library/Frameworks/Python.framework/Versions/3.10/lib/python3.10/site-packages (from ipython>=4.0.0->ipywidgets>=7.6.0->ipycanvas) (3.0.26)\n",
      "Requirement already satisfied: setuptools>=18.5 in /Library/Frameworks/Python.framework/Versions/3.10/lib/python3.10/site-packages (from ipython>=4.0.0->ipywidgets>=7.6.0->ipycanvas) (58.1.0)\n",
      "Requirement already satisfied: stack-data in /Library/Frameworks/Python.framework/Versions/3.10/lib/python3.10/site-packages (from ipython>=4.0.0->ipywidgets>=7.6.0->ipycanvas) (0.1.4)\n",
      "Requirement already satisfied: decorator in /Library/Frameworks/Python.framework/Versions/3.10/lib/python3.10/site-packages (from ipython>=4.0.0->ipywidgets>=7.6.0->ipycanvas) (5.1.1)\n",
      "Requirement already satisfied: jedi>=0.16 in /Library/Frameworks/Python.framework/Versions/3.10/lib/python3.10/site-packages (from ipython>=4.0.0->ipywidgets>=7.6.0->ipycanvas) (0.18.1)\n",
      "Requirement already satisfied: pexpect>4.3 in /Library/Frameworks/Python.framework/Versions/3.10/lib/python3.10/site-packages (from ipython>=4.0.0->ipywidgets>=7.6.0->ipycanvas) (4.8.0)\n",
      "Requirement already satisfied: backcall in /Library/Frameworks/Python.framework/Versions/3.10/lib/python3.10/site-packages (from ipython>=4.0.0->ipywidgets>=7.6.0->ipycanvas) (0.2.0)\n",
      "Requirement already satisfied: pygments in /Library/Frameworks/Python.framework/Versions/3.10/lib/python3.10/site-packages (from ipython>=4.0.0->ipywidgets>=7.6.0->ipycanvas) (2.11.2)\n",
      "Requirement already satisfied: pickleshare in /Library/Frameworks/Python.framework/Versions/3.10/lib/python3.10/site-packages (from ipython>=4.0.0->ipywidgets>=7.6.0->ipycanvas) (0.7.5)\n",
      "Requirement already satisfied: jsonschema!=2.5.0,>=2.4 in /Library/Frameworks/Python.framework/Versions/3.10/lib/python3.10/site-packages (from nbformat>=4.2.0->ipywidgets>=7.6.0->ipycanvas) (4.4.0)\n",
      "Requirement already satisfied: jupyter-core in /Library/Frameworks/Python.framework/Versions/3.10/lib/python3.10/site-packages (from nbformat>=4.2.0->ipywidgets>=7.6.0->ipycanvas) (4.9.1)\n",
      "Requirement already satisfied: notebook>=4.4.1 in /Library/Frameworks/Python.framework/Versions/3.10/lib/python3.10/site-packages (from widgetsnbextension~=3.6.0->ipywidgets>=7.6.0->ipycanvas) (6.4.8)\n",
      "Requirement already satisfied: parso<0.9.0,>=0.8.0 in /Library/Frameworks/Python.framework/Versions/3.10/lib/python3.10/site-packages (from jedi>=0.16->ipython>=4.0.0->ipywidgets>=7.6.0->ipycanvas) (0.8.3)\n",
      "Requirement already satisfied: attrs>=17.4.0 in /Library/Frameworks/Python.framework/Versions/3.10/lib/python3.10/site-packages (from jsonschema!=2.5.0,>=2.4->nbformat>=4.2.0->ipywidgets>=7.6.0->ipycanvas) (21.4.0)\n",
      "Requirement already satisfied: pyrsistent!=0.17.0,!=0.17.1,!=0.17.2,>=0.14.0 in /Library/Frameworks/Python.framework/Versions/3.10/lib/python3.10/site-packages (from jsonschema!=2.5.0,>=2.4->nbformat>=4.2.0->ipywidgets>=7.6.0->ipycanvas) (0.18.1)\n",
      "Requirement already satisfied: entrypoints in /Library/Frameworks/Python.framework/Versions/3.10/lib/python3.10/site-packages (from jupyter-client<8.0->ipykernel>=4.5.1->ipywidgets>=7.6.0->ipycanvas) (0.4)\n",
      "Requirement already satisfied: python-dateutil>=2.1 in /Library/Frameworks/Python.framework/Versions/3.10/lib/python3.10/site-packages (from jupyter-client<8.0->ipykernel>=4.5.1->ipywidgets>=7.6.0->ipycanvas) (2.8.2)\n",
      "Requirement already satisfied: pyzmq>=13 in /Library/Frameworks/Python.framework/Versions/3.10/lib/python3.10/site-packages (from jupyter-client<8.0->ipykernel>=4.5.1->ipywidgets>=7.6.0->ipycanvas) (22.3.0)\n",
      "Requirement already satisfied: nbconvert in /Library/Frameworks/Python.framework/Versions/3.10/lib/python3.10/site-packages (from notebook>=4.4.1->widgetsnbextension~=3.6.0->ipywidgets>=7.6.0->ipycanvas) (6.4.1)\n",
      "Requirement already satisfied: terminado>=0.8.3 in /Library/Frameworks/Python.framework/Versions/3.10/lib/python3.10/site-packages (from notebook>=4.4.1->widgetsnbextension~=3.6.0->ipywidgets>=7.6.0->ipycanvas) (0.13.1)\n",
      "Requirement already satisfied: prometheus-client in /Library/Frameworks/Python.framework/Versions/3.10/lib/python3.10/site-packages (from notebook>=4.4.1->widgetsnbextension~=3.6.0->ipywidgets>=7.6.0->ipycanvas) (0.13.1)\n",
      "Requirement already satisfied: jinja2 in /Library/Frameworks/Python.framework/Versions/3.10/lib/python3.10/site-packages (from notebook>=4.4.1->widgetsnbextension~=3.6.0->ipywidgets>=7.6.0->ipycanvas) (3.0.3)\n",
      "Requirement already satisfied: argon2-cffi in /Library/Frameworks/Python.framework/Versions/3.10/lib/python3.10/site-packages (from notebook>=4.4.1->widgetsnbextension~=3.6.0->ipywidgets>=7.6.0->ipycanvas) (21.3.0)\n",
      "Requirement already satisfied: Send2Trash>=1.8.0 in /Library/Frameworks/Python.framework/Versions/3.10/lib/python3.10/site-packages (from notebook>=4.4.1->widgetsnbextension~=3.6.0->ipywidgets>=7.6.0->ipycanvas) (1.8.0)\n",
      "Requirement already satisfied: ptyprocess>=0.5 in /Library/Frameworks/Python.framework/Versions/3.10/lib/python3.10/site-packages (from pexpect>4.3->ipython>=4.0.0->ipywidgets>=7.6.0->ipycanvas) (0.7.0)\n",
      "Requirement already satisfied: wcwidth in /Library/Frameworks/Python.framework/Versions/3.10/lib/python3.10/site-packages (from prompt-toolkit!=3.0.0,!=3.0.1,<3.1.0,>=2.0.0->ipython>=4.0.0->ipywidgets>=7.6.0->ipycanvas) (0.2.5)\n",
      "Requirement already satisfied: mypy-extensions>=0.4.3 in /Library/Frameworks/Python.framework/Versions/3.10/lib/python3.10/site-packages (from black->ipython>=4.0.0->ipywidgets>=7.6.0->ipycanvas) (0.4.3)\n",
      "Requirement already satisfied: tomli>=1.1.0 in /Library/Frameworks/Python.framework/Versions/3.10/lib/python3.10/site-packages (from black->ipython>=4.0.0->ipywidgets>=7.6.0->ipycanvas) (2.0.0)\n",
      "Requirement already satisfied: platformdirs>=2 in /Library/Frameworks/Python.framework/Versions/3.10/lib/python3.10/site-packages (from black->ipython>=4.0.0->ipywidgets>=7.6.0->ipycanvas) (2.4.1)\n",
      "Requirement already satisfied: pathspec>=0.9.0 in /Library/Frameworks/Python.framework/Versions/3.10/lib/python3.10/site-packages (from black->ipython>=4.0.0->ipywidgets>=7.6.0->ipycanvas) (0.9.0)\n",
      "Requirement already satisfied: click>=8.0.0 in /Library/Frameworks/Python.framework/Versions/3.10/lib/python3.10/site-packages (from black->ipython>=4.0.0->ipywidgets>=7.6.0->ipycanvas) (8.0.3)\n",
      "Requirement already satisfied: pure-eval in /Library/Frameworks/Python.framework/Versions/3.10/lib/python3.10/site-packages (from stack-data->ipython>=4.0.0->ipywidgets>=7.6.0->ipycanvas) (0.2.2)\n",
      "Requirement already satisfied: executing in /Library/Frameworks/Python.framework/Versions/3.10/lib/python3.10/site-packages (from stack-data->ipython>=4.0.0->ipywidgets>=7.6.0->ipycanvas) (0.8.2)\n",
      "Requirement already satisfied: asttokens in /Library/Frameworks/Python.framework/Versions/3.10/lib/python3.10/site-packages (from stack-data->ipython>=4.0.0->ipywidgets>=7.6.0->ipycanvas) (2.0.5)\n"
     ]
    },
    {
     "name": "stdout",
     "output_type": "stream",
     "text": [
      "Requirement already satisfied: six>=1.5 in /Library/Frameworks/Python.framework/Versions/3.10/lib/python3.10/site-packages (from python-dateutil>=2.1->jupyter-client<8.0->ipykernel>=4.5.1->ipywidgets>=7.6.0->ipycanvas) (1.16.0)\n",
      "Requirement already satisfied: argon2-cffi-bindings in /Library/Frameworks/Python.framework/Versions/3.10/lib/python3.10/site-packages (from argon2-cffi->notebook>=4.4.1->widgetsnbextension~=3.6.0->ipywidgets>=7.6.0->ipycanvas) (21.2.0)\n",
      "Requirement already satisfied: MarkupSafe>=2.0 in /Library/Frameworks/Python.framework/Versions/3.10/lib/python3.10/site-packages (from jinja2->notebook>=4.4.1->widgetsnbextension~=3.6.0->ipywidgets>=7.6.0->ipycanvas) (2.0.1)\n",
      "Requirement already satisfied: pandocfilters>=1.4.1 in /Library/Frameworks/Python.framework/Versions/3.10/lib/python3.10/site-packages (from nbconvert->notebook>=4.4.1->widgetsnbextension~=3.6.0->ipywidgets>=7.6.0->ipycanvas) (1.5.0)\n",
      "Requirement already satisfied: testpath in /Library/Frameworks/Python.framework/Versions/3.10/lib/python3.10/site-packages (from nbconvert->notebook>=4.4.1->widgetsnbextension~=3.6.0->ipywidgets>=7.6.0->ipycanvas) (0.5.0)\n",
      "Requirement already satisfied: defusedxml in /Library/Frameworks/Python.framework/Versions/3.10/lib/python3.10/site-packages (from nbconvert->notebook>=4.4.1->widgetsnbextension~=3.6.0->ipywidgets>=7.6.0->ipycanvas) (0.7.1)\n",
      "Requirement already satisfied: jupyterlab-pygments in /Library/Frameworks/Python.framework/Versions/3.10/lib/python3.10/site-packages (from nbconvert->notebook>=4.4.1->widgetsnbextension~=3.6.0->ipywidgets>=7.6.0->ipycanvas) (0.1.2)\n",
      "Requirement already satisfied: nbclient<0.6.0,>=0.5.0 in /Library/Frameworks/Python.framework/Versions/3.10/lib/python3.10/site-packages (from nbconvert->notebook>=4.4.1->widgetsnbextension~=3.6.0->ipywidgets>=7.6.0->ipycanvas) (0.5.10)\n",
      "Requirement already satisfied: bleach in /Library/Frameworks/Python.framework/Versions/3.10/lib/python3.10/site-packages (from nbconvert->notebook>=4.4.1->widgetsnbextension~=3.6.0->ipywidgets>=7.6.0->ipycanvas) (4.1.0)\n",
      "Requirement already satisfied: mistune<2,>=0.8.1 in /Library/Frameworks/Python.framework/Versions/3.10/lib/python3.10/site-packages (from nbconvert->notebook>=4.4.1->widgetsnbextension~=3.6.0->ipywidgets>=7.6.0->ipycanvas) (0.8.4)\n",
      "Requirement already satisfied: cffi>=1.0.1 in /Library/Frameworks/Python.framework/Versions/3.10/lib/python3.10/site-packages (from argon2-cffi-bindings->argon2-cffi->notebook>=4.4.1->widgetsnbextension~=3.6.0->ipywidgets>=7.6.0->ipycanvas) (1.15.0)\n",
      "Requirement already satisfied: packaging in /Library/Frameworks/Python.framework/Versions/3.10/lib/python3.10/site-packages (from bleach->nbconvert->notebook>=4.4.1->widgetsnbextension~=3.6.0->ipywidgets>=7.6.0->ipycanvas) (21.3)\n",
      "Requirement already satisfied: webencodings in /Library/Frameworks/Python.framework/Versions/3.10/lib/python3.10/site-packages (from bleach->nbconvert->notebook>=4.4.1->widgetsnbextension~=3.6.0->ipywidgets>=7.6.0->ipycanvas) (0.5.1)\n",
      "Requirement already satisfied: pycparser in /Library/Frameworks/Python.framework/Versions/3.10/lib/python3.10/site-packages (from cffi>=1.0.1->argon2-cffi-bindings->argon2-cffi->notebook>=4.4.1->widgetsnbextension~=3.6.0->ipywidgets>=7.6.0->ipycanvas) (2.21)\n",
      "Requirement already satisfied: pyparsing!=3.0.5,>=2.0.2 in /Library/Frameworks/Python.framework/Versions/3.10/lib/python3.10/site-packages (from packaging->bleach->nbconvert->notebook>=4.4.1->widgetsnbextension~=3.6.0->ipywidgets>=7.6.0->ipycanvas) (3.0.7)\n"
     ]
    }
   ],
   "source": [
    "! pip install ipycanvas"
   ]
  },
  {
   "cell_type": "code",
   "execution_count": 3,
   "metadata": {},
   "outputs": [
    {
     "name": "stdout",
     "output_type": "stream",
     "text": [
      "/Users/heat/.zshenv:1: permission denied: /Applications/Android Studio.app/Contents/jre/Contents/Home\n",
      "Requirement already satisfied: tabulate in /Library/Frameworks/Python.framework/Versions/3.10/lib/python3.10/site-packages (0.8.9)\n"
     ]
    }
   ],
   "source": [
    "! pip install tabulate"
   ]
  },
  {
   "cell_type": "code",
   "execution_count": 4,
   "metadata": {},
   "outputs": [],
   "source": [
    "from datetime import datetime as t\n",
    "from ipycanvas import Canvas, MultiCanvas, hold_canvas\n",
    "import math\n",
    "from tabulate import tabulate\n",
    "\n",
    "WIDTH = 600\n",
    "HEIGHT = 600\n",
    "\n",
    "# \"Черепашья графика\". Позволяет рисовать линии, начало которых \n",
    "# идёт с конца предыдущей линии, т.е. класс помогает рисовать линии последовательно,\n",
    "# друг за другом. Такой механизм облегчает реализацию генерации некоторых фракталов.\n",
    "class TurtleGraphics:\n",
    "    def __init__(self, canvas: Canvas):\n",
    "        self.last_x = None\n",
    "        self.last_y = None\n",
    "        self.angle = 0\n",
    "        self._canvas = canvas\n",
    "        self._canvas.clear()\n",
    "        \n",
    "    def begin(self, start_x: int, start_y: int):\n",
    "        self.last_x = start_x\n",
    "        self.last_y = start_y\n",
    "        self._canvas.begin_path()\n",
    "        self._canvas.move_to(start_x, start_y)\n",
    "        \n",
    "    def rotate(self, delta: float):\n",
    "        self.angle += delta\n",
    "        \n",
    "    def close(self):\n",
    "        self._canvas.close_path()\n",
    "        \n",
    "    def fill(self):\n",
    "        self._canvas.fill()\n",
    "        \n",
    "    def stroke(self):\n",
    "        self._canvas.stroke()\n",
    "        \n",
    "    # Не учитывает угол, т.е. использование метода rotate(delta)\n",
    "    # никак не повлияет на результат данного метода\n",
    "    def forward_by_coords(self, dx: int, dy: int):\n",
    "        self.last_x = self.last_x + dx\n",
    "        self.last_y = self.last_y + dy\n",
    "        \n",
    "        self._canvas.line_to(self.last_x, self.last_y)\n",
    "    \n",
    "    # Учитывает угол\n",
    "    def forward(self, length: float):\n",
    "        self.last_x = length * math.cos(math.radians(self.angle)) + self.last_x\n",
    "        self.last_y = length * math.sin(math.radians(self.angle)) + self.last_y\n",
    "\n",
    "        self._canvas.line_to(self.last_x, self.last_y)"
   ]
  },
  {
   "cell_type": "code",
   "execution_count": 5,
   "metadata": {},
   "outputs": [
    {
     "name": "stdout",
     "output_type": "stream",
     "text": [
      "  Глубина    Время генерации, сек\n",
      "---------  ----------------------\n",
      "        1                  0.0002\n",
      "        2                  0.0002\n",
      "        3                  0.0006\n",
      "        4                  0.0017\n",
      "        5                  0.0119\n",
      "        6                  0.0211\n",
      "        7                  0.1042\n",
      "        8                  0.1737\n",
      "        9                  0.6927\n",
      "       10                  2.6149\n",
      "\n",
      "Введите глубину фрактала: 5\n"
     ]
    },
    {
     "data": {
      "application/vnd.jupyter.widget-view+json": {
       "model_id": "fd4456605efa4710ab04f574e5a3a8d8",
       "version_major": 2,
       "version_minor": 0
      },
      "text/plain": [
       "MultiCanvas(height=600, width=600)"
      ]
     },
     "metadata": {},
     "output_type": "display_data"
    }
   ],
   "source": [
    "# Кривая Коха\n",
    "# Настроаиваем холст для рисования\n",
    "canvas = MultiCanvas(2, width=WIDTH, height=HEIGHT)\n",
    "background = canvas[0]\n",
    "foreground = canvas[1]\n",
    "\n",
    "background.fill_style = 'black'\n",
    "background.fill_rect(0, 0, WIDTH, HEIGHT)\n",
    "\n",
    "# --------------------------------------------------\n",
    "turtle_graphics = TurtleGraphics(foreground)\n",
    "turtle_graphics.begin(25, HEIGHT / 2)\n",
    "\n",
    "def koch_curve(size: float, n: int):\n",
    "    if n == 0:\n",
    "        turtle_graphics.forward(size)\n",
    "    else:\n",
    "        koch_curve(size / 3, n - 1)\n",
    "        turtle_graphics.rotate(-60)\n",
    "        koch_curve(size / 3, n - 1)\n",
    "        turtle_graphics.rotate(120)\n",
    "        koch_curve(size / 3, n - 1)\n",
    "        turtle_graphics.rotate(-60)\n",
    "        koch_curve(size / 3, n - 1)\n",
    "        \n",
    "  \n",
    "# Замеры времени генерации\n",
    "table_data = []\n",
    "\n",
    "for i in range(1, 11):\n",
    "    start_time = t.now().timestamp()\n",
    "    \n",
    "    with hold_canvas(foreground):\n",
    "        koch_curve(550, i)\n",
    "        \n",
    "    genertion_time = \"{:.4f}\".format(t.now().timestamp() - start_time)\n",
    "    table_data.append([i, genertion_time])\n",
    "    \n",
    "\n",
    "print(tabulate(table_data, headers=['Глубина', 'Время генерации, сек']), end='\\n\\n')\n",
    "# --------------------------------------------------\n",
    "\n",
    "foreground.clear()\n",
    "turtle_graphics = TurtleGraphics(foreground)\n",
    "turtle_graphics.begin(25, HEIGHT / 2)\n",
    "depth = int(input('Введите глубину фрактала: '))\n",
    "\n",
    "foreground.stroke_style = 'white'\n",
    "\n",
    "with hold_canvas(foreground):\n",
    "    koch_curve(550, depth)\n",
    "    turtle_graphics.stroke()\n",
    "    \n",
    "canvas"
   ]
  },
  {
   "cell_type": "code",
   "execution_count": 6,
   "metadata": {},
   "outputs": [
    {
     "name": "stdout",
     "output_type": "stream",
     "text": [
      "  Глубина    Время генерации, сек\n",
      "---------  ----------------------\n",
      "        1                  0.0001\n",
      "        2                  0.0001\n",
      "        3                  0.0002\n",
      "        4                  0.0007\n",
      "        5                  0.0024\n",
      "        6                  0.0088\n",
      "        7                  0.0311\n",
      "        8                  0.0767\n",
      "        9                  0.4246\n",
      "       10                  1.7853\n",
      "       11                  6.6013\n",
      "\n",
      "Введите глубину фрактала: 5\n"
     ]
    },
    {
     "data": {
      "application/vnd.jupyter.widget-view+json": {
       "model_id": "2eb33b98773d4f6fa2fcdf3b507c0869",
       "version_major": 2,
       "version_minor": 0
      },
      "text/plain": [
       "MultiCanvas(height=600, width=600)"
      ]
     },
     "metadata": {},
     "output_type": "display_data"
    }
   ],
   "source": [
    "# Кривая Гильберта\n",
    "# Настроаиваем холст для рисования\n",
    "canvas = MultiCanvas(2, width=WIDTH, height=HEIGHT)\n",
    "background = canvas[0]\n",
    "foreground = canvas[1]\n",
    "\n",
    "background.fill_style = 'black'\n",
    "background.fill_rect(0, 0, WIDTH, HEIGHT)\n",
    "\n",
    "# --------------------------------------------------\n",
    "turtle_graphics = TurtleGraphics(foreground)\n",
    "turtle_graphics.begin(25, 25)\n",
    "\n",
    "def hilbert_curve(dx: int, dy: int, n: int):\n",
    "    if (n > 1):\n",
    "        hilbert_curve(dy, dx, n - 1)\n",
    "    \n",
    "    turtle_graphics.forward_by_coords(dx, dy)\n",
    "    \n",
    "    if (n > 1):\n",
    "        hilbert_curve(dx, dy, n - 1)\n",
    "    \n",
    "    turtle_graphics.forward_by_coords(dy, dx)\n",
    "    \n",
    "    if (n > 1):\n",
    "        hilbert_curve(dx, dy, n - 1)\n",
    "    \n",
    "    turtle_graphics.forward_by_coords(-dx, -dy)\n",
    "    \n",
    "    if (n > 1):\n",
    "        hilbert_curve(-dy, -dx, n - 1)\n",
    "        \n",
    "        \n",
    "# Замеры времени генерации\n",
    "table_data = []\n",
    "\n",
    "for i in range(1, 12):\n",
    "    start_time = t.now().timestamp()\n",
    "    \n",
    "    with hold_canvas(foreground):\n",
    "        hilbert_curve(15, 0, i)\n",
    "        \n",
    "    genertion_time = \"{:.4f}\".format(t.now().timestamp() - start_time)\n",
    "    table_data.append([i, genertion_time])\n",
    "    \n",
    "\n",
    "print(tabulate(table_data, headers=['Глубина', 'Время генерации, сек']), end='\\n\\n')\n",
    "# --------------------------------------------------\n",
    "\n",
    "foreground.clear()  \n",
    "turtle_graphics = TurtleGraphics(foreground)\n",
    "turtle_graphics.begin(25, 25)\n",
    "depth = int(input('Введите глубину фрактала: '))\n",
    "\n",
    "foreground.stroke_style = 'white'\n",
    "\n",
    "with hold_canvas(foreground):\n",
    "    hilbert_curve(15, 0, depth)\n",
    "    turtle_graphics.stroke()\n",
    "    \n",
    "canvas"
   ]
  },
  {
   "cell_type": "code",
   "execution_count": 7,
   "metadata": {},
   "outputs": [
    {
     "name": "stdout",
     "output_type": "stream",
     "text": [
      "  Глубина    Время генерации, сек\n",
      "---------  ----------------------\n",
      "        1                  0.0002\n",
      "        2                  0.0004\n",
      "        3                  0.0015\n",
      "        4                  0.004\n",
      "        5                  0.0148\n",
      "        6                  0.043\n",
      "        7                  0.1315\n",
      "        8                  0.5266\n",
      "        9                  2.5944\n",
      "\n",
      "Введите глубину фрактала: 4\n"
     ]
    },
    {
     "data": {
      "application/vnd.jupyter.widget-view+json": {
       "model_id": "23235336e71846718132e64358b12e9f",
       "version_major": 2,
       "version_minor": 0
      },
      "text/plain": [
       "MultiCanvas(height=600, width=600)"
      ]
     },
     "metadata": {},
     "output_type": "display_data"
    }
   ],
   "source": [
    "# Кривая Серпинского\n",
    "# Настроаиваем холст для рисования\n",
    "canvas = MultiCanvas(2, width=WIDTH, height=HEIGHT)\n",
    "background = canvas[0]\n",
    "foreground = canvas[1]\n",
    "\n",
    "background.fill_style = 'black'\n",
    "background.fill_rect(0, 0, WIDTH, HEIGHT)\n",
    "\n",
    "# --------------------------------------------------\n",
    "turtle_graphics = TurtleGraphics(foreground)\n",
    "turtle_graphics.begin(25, HEIGHT - 50)\n",
    "turtle_graphics.rotate(-45) \n",
    "\n",
    "def half_sierpinski_curve(size: float, n: int):\n",
    "    if n == 0:\n",
    "        turtle_graphics.forward(size)\n",
    "    else:\n",
    "        half_sierpinski_curve(size, n - 1)\n",
    "        turtle_graphics.rotate(-45)\n",
    "        turtle_graphics.forward(size * math.sqrt(2))\n",
    "        turtle_graphics.rotate(-45)\n",
    "        half_sierpinski_curve(size, n - 1)\n",
    "        turtle_graphics.rotate(90)\n",
    "        turtle_graphics.forward(size)\n",
    "        turtle_graphics.rotate(90)\n",
    "        half_sierpinski_curve(size, n - 1)\n",
    "        turtle_graphics.rotate(-45)\n",
    "        turtle_graphics.forward(size * math.sqrt(2))\n",
    "        turtle_graphics.rotate(-45)\n",
    "        half_sierpinski_curve(size, n - 1)\n",
    "        \n",
    "\n",
    "def sierpinski_curve(size: float, n: int):\n",
    "    half_sierpinski_curve(size, n)\n",
    "    turtle_graphics.rotate(90)\n",
    "    turtle_graphics.forward(size)\n",
    "    turtle_graphics.rotate(90)\n",
    "    half_sierpinski_curve(size, n)\n",
    "    turtle_graphics.rotate(90)\n",
    "    turtle_graphics.forward(size)\n",
    "    turtle_graphics.rotate(90)\n",
    "    \n",
    "\n",
    "# Замеры времени генерации\n",
    "table_data = []\n",
    "\n",
    "for i in range(1, 10):\n",
    "    start_time = t.now().timestamp()\n",
    "    \n",
    "    with hold_canvas(foreground):\n",
    "        sierpinski_curve(10, i)\n",
    "        \n",
    "    genertion_time = \"{:.4f}\".format(t.now().timestamp() - start_time)\n",
    "    table_data.append([i, genertion_time])\n",
    "    \n",
    "\n",
    "print(tabulate(table_data, headers=['Глубина', 'Время генерации, сек']), end='\\n\\n')\n",
    "# --------------------------------------------------\n",
    "\n",
    "foreground.clear()  \n",
    "turtle_graphics = TurtleGraphics(foreground)\n",
    "turtle_graphics.begin(25, HEIGHT - 50)\n",
    "turtle_graphics.rotate(-45)   \n",
    "depth = int(input('Введите глубину фрактала: '))\n",
    "\n",
    "foreground.stroke_style = 'white'\n",
    "\n",
    "with hold_canvas(foreground):\n",
    "    sierpinski_curve(10, depth)\n",
    "    turtle_graphics.stroke()\n",
    "    \n",
    "canvas"
   ]
  },
  {
   "cell_type": "code",
   "execution_count": 8,
   "metadata": {},
   "outputs": [
    {
     "name": "stdout",
     "output_type": "stream",
     "text": [
      "  Глубина    Время генерации, сек\n",
      "---------  ----------------------\n",
      "        1                  0.0002\n",
      "        2                  0.0001\n",
      "        3                  0.0002\n",
      "        4                  0.0005\n",
      "        5                  0.0015\n",
      "        6                  0.0051\n",
      "        7                  0.0124\n",
      "        8                  0.0292\n",
      "        9                  0.0616\n",
      "       10                  0.2209\n",
      "       11                  0.7098\n",
      "\n",
      "Введите глубину фрактала: 10\n"
     ]
    },
    {
     "data": {
      "application/vnd.jupyter.widget-view+json": {
       "model_id": "1be8e9bed06445ec9224965852f694a2",
       "version_major": 2,
       "version_minor": 0
      },
      "text/plain": [
       "MultiCanvas(height=600, width=600)"
      ]
     },
     "metadata": {},
     "output_type": "display_data"
    }
   ],
   "source": [
    "# Салфетка Серпинского\n",
    "# Настроаиваем холст для рисования\n",
    "canvas = MultiCanvas(2, width=WIDTH, height=HEIGHT)\n",
    "background = canvas[0]\n",
    "foreground = canvas[1]\n",
    "\n",
    "background.fill_style = 'black'\n",
    "background.fill_rect(0, 0, WIDTH, HEIGHT)\n",
    "\n",
    "# --------------------------------------------------\n",
    "turtle_graphics = TurtleGraphics(foreground)\n",
    "\n",
    "def fill_triangle(x: int, y: int, size: float):\n",
    "    turtle_graphics.begin(x, y)\n",
    "    turtle_graphics.rotate(-60)\n",
    "    turtle_graphics.forward(size)\n",
    "    turtle_graphics.rotate(120)\n",
    "    turtle_graphics.forward(size)\n",
    "    turtle_graphics.rotate(120)\n",
    "    turtle_graphics.forward(size)\n",
    "    turtle_graphics.rotate(180)\n",
    "    turtle_graphics.fill()\n",
    "    \n",
    "    \n",
    "def sierpinski_triangle(x: int, y: int, size: float, n: int):\n",
    "    if n == 1:\n",
    "        fill_triangle(x, y, size)\n",
    "    else:\n",
    "        sierpinski_triangle(x, y, size / 2, n - 1)\n",
    "        sierpinski_triangle(x + size / 4, y - (size / 2 * math.sqrt(3) / 2), size / 2, n - 1)\n",
    "        sierpinski_triangle(x + size / 2, y, size / 2, n - 1)\n",
    "\n",
    "\n",
    "# Замеры времени генерации\n",
    "table_data = []\n",
    "\n",
    "for i in range(1, 12):\n",
    "    start_time = t.now().timestamp()\n",
    "    \n",
    "    with hold_canvas(foreground):\n",
    "        sierpinski_triangle(0, 0, 500, i)\n",
    "        \n",
    "    genertion_time = \"{:.4f}\".format(t.now().timestamp() - start_time)\n",
    "    table_data.append([i, genertion_time])\n",
    "    \n",
    "\n",
    "print(tabulate(table_data, headers=['Глубина', 'Время генерации, сек']), end='\\n\\n')\n",
    "# --------------------------------------------------\n",
    "        \n",
    "foreground.clear()\n",
    "depth = int(input('Введите глубину фрактала: '))\n",
    "foreground.fill_style = 'white'\n",
    "\n",
    "with hold_canvas(foreground):\n",
    "    sierpinski_triangle(WIDTH / 2 - 250, HEIGHT / 2 + 250, 500, depth)\n",
    "\n",
    "canvas"
   ]
  },
  {
   "cell_type": "code",
   "execution_count": 9,
   "metadata": {},
   "outputs": [
    {
     "name": "stdout",
     "output_type": "stream",
     "text": [
      "  Глубина    Время генерации, сек\n",
      "---------  ----------------------\n",
      "        1                  0.0001\n",
      "        2                  0.0001\n",
      "        3                  0.0008\n",
      "        4                  0.0062\n",
      "        5                  0.0718\n",
      "        6                  0.4843\n",
      "        7                  3.6365\n",
      "\n",
      "Введите глубину фрактала: 6\n"
     ]
    },
    {
     "data": {
      "application/vnd.jupyter.widget-view+json": {
       "model_id": "920117936bf94f569b8cd468d10e60ec",
       "version_major": 2,
       "version_minor": 0
      },
      "text/plain": [
       "MultiCanvas(height=600, width=600)"
      ]
     },
     "metadata": {},
     "output_type": "display_data"
    }
   ],
   "source": [
    "# Ковёр Серпинского\n",
    "# Настроаиваем холст для рисования\n",
    "canvas = MultiCanvas(2, width=WIDTH, height=HEIGHT)\n",
    "background = canvas[0]\n",
    "foreground = canvas[1]\n",
    "\n",
    "background.fill_style = 'black'\n",
    "background.fill_rect(0, 0, WIDTH, HEIGHT)\n",
    "\n",
    "# --------------------------------------------------\n",
    "turtle_graphics = TurtleGraphics(foreground)\n",
    "\n",
    "def fill_square(x: int, y: int, size: float):\n",
    "    turtle_graphics.begin(x,y)\n",
    "    turtle_graphics.forward(size)\n",
    "    turtle_graphics.rotate(90)\n",
    "    turtle_graphics.forward(size)\n",
    "    turtle_graphics.rotate(90)\n",
    "    turtle_graphics.forward(size)\n",
    "    turtle_graphics.rotate(90)\n",
    "    turtle_graphics.forward(size)\n",
    "    turtle_graphics.rotate(90)\n",
    "    turtle_graphics.fill()\n",
    "    \n",
    "def sierpinski_square(x: int, y: int, size: float, n: int):\n",
    "    if n == 1:\n",
    "        fill_square(x, y, size)\n",
    "    else:\n",
    "        new_size = size / 3\n",
    "        sierpinski_square(x, y, new_size + 1, n - 1)\n",
    "        sierpinski_square(x + new_size, y, new_size + 1, n - 1)\n",
    "        sierpinski_square(x + new_size * 2, y, new_size + 1, n - 1)\n",
    "        sierpinski_square(x, y + new_size, new_size + 1, n - 1)\n",
    "        sierpinski_square(x + new_size * 2, y + new_size, new_size + 1, n - 1)\n",
    "        sierpinski_square(x, y + new_size * 2, new_size + 1, n - 1)\n",
    "        sierpinski_square(x + new_size, y + new_size * 2, new_size + 1, n - 1)\n",
    "        sierpinski_square(x + new_size * 2, y + new_size * 2, new_size + 1, n - 1)\n",
    "        \n",
    "        \n",
    "# Замеры времени генерации\n",
    "table_data = []\n",
    "\n",
    "for i in range(1, 8):\n",
    "    start_time = t.now().timestamp()\n",
    "    \n",
    "    with hold_canvas(foreground):\n",
    "        sierpinski_square(0, 0, 500, i)\n",
    "        \n",
    "    genertion_time = \"{:.4f}\".format(t.now().timestamp() - start_time)\n",
    "    table_data.append([i, genertion_time])\n",
    "    \n",
    "\n",
    "print(tabulate(table_data, headers=['Глубина', 'Время генерации, сек']), end='\\n\\n')\n",
    "# --------------------------------------------------\n",
    "        \n",
    "foreground.clear()   \n",
    "depth = int(input('Введите глубину фрактала: '))\n",
    "foreground.fill_style = 'white'\n",
    "\n",
    "with hold_canvas(foreground):\n",
    "    sierpinski_square(WIDTH / 2 - 250, HEIGHT / 2 - 250, 500, depth)\n",
    "\n",
    "canvas"
   ]
  },
  {
   "cell_type": "code",
   "execution_count": 10,
   "metadata": {},
   "outputs": [
    {
     "name": "stdout",
     "output_type": "stream",
     "text": [
      "  Глубина    Время генерации, сек\n",
      "---------  ----------------------\n",
      "        1                  0.0001\n",
      "        2                  0.0001\n",
      "        3                  0.0001\n",
      "        4                  0.0002\n",
      "        5                  0.0003\n",
      "        6                  0.0005\n",
      "        7                  0.001\n",
      "        8                  0.0021\n",
      "        9                  0.0049\n",
      "       10                  0.0083\n",
      "       11                  0.0166\n",
      "       12                  0.034\n",
      "       13                  0.0869\n",
      "       14                  0.1783\n",
      "       15                  0.3601\n",
      "       16                  0.7742\n",
      "       17                  1.4494\n",
      "       18                  2.8239\n",
      "       19                  5.5782\n",
      "\n",
      "Введите глубину фрактала: 10\n"
     ]
    },
    {
     "data": {
      "application/vnd.jupyter.widget-view+json": {
       "model_id": "cee0e897094d451d81b05fa218e1dd45",
       "version_major": 2,
       "version_minor": 0
      },
      "text/plain": [
       "MultiCanvas(height=600, width=600)"
      ]
     },
     "metadata": {},
     "output_type": "display_data"
    }
   ],
   "source": [
    "# Дерево Пифгора\n",
    "# Настроаиваем холст для рисования\n",
    "canvas = MultiCanvas(2, width=WIDTH, height=HEIGHT)\n",
    "background = canvas[0]\n",
    "foreground = canvas[1]\n",
    "\n",
    "background.fill_style = 'black'\n",
    "background.fill_rect(0, 0, WIDTH, HEIGHT)\n",
    "\n",
    "# --------------------------------------------------\n",
    "\n",
    "# ax, ay - координата первого угла четырёхугольника\n",
    "# bx, by - координата второго угла четырёхугольника\n",
    "# vx, vy - вектор, направленный на противоположную от ab сторону\n",
    "def fill_rect(ax: int, ay: int, bx: int, by: int, vx: int, vy: int):\n",
    "    foreground.begin_path()\n",
    "    foreground.move_to(ax, ay)\n",
    "    foreground.line_to(ax + vx, ay + vy)\n",
    "    foreground.line_to(bx + vx, by + vy)\n",
    "    foreground.line_to(bx, by)\n",
    "    foreground.close_path()\n",
    "    foreground.fill()\n",
    "    \n",
    "\n",
    "def pythagorean_tree(ax: int, ay: int, bx: int, by: int, vx: int, vy: int, n: int):\n",
    "    if n > 0:\n",
    "        fill_rect(ax, ay, bx, by, vx, vy)\n",
    "    if n > 1:\n",
    "        # px, py - вектор из точки a в противоположный угол квадрата\n",
    "        px = (bx + vx) - ax\n",
    "        py = (by + vy) - ay\n",
    "        \n",
    "        # qx, qy - вектор из точки b в противоположный угол квадрата\n",
    "        qx = (ax + vx) - bx\n",
    "        qy = (ay + vy) - by\n",
    "        \n",
    "        mx = px / 2\n",
    "        my = py / 2\n",
    "        \n",
    "        kx = qx / 2\n",
    "        ky = qy / 2\n",
    "        \n",
    "        pythagorean_tree(ax + vx, ay + vy, ax + vx + mx, ay + vy + my, kx, ky, n - 1)\n",
    "        pythagorean_tree(bx + vx, by + vy, bx + vx + kx, by + vy + ky, mx, my, n - 1)\n",
    "        \n",
    "\n",
    "# Замеры времени генерации\n",
    "table_data = []\n",
    "\n",
    "for i in range(1, 20):\n",
    "    start_time = t.now().timestamp()\n",
    "    \n",
    "    with hold_canvas(foreground):\n",
    "        pythagorean_tree(0, 0, 50, 0, 0, 50, i)\n",
    "        \n",
    "    genertion_time = \"{:.4f}\".format(t.now().timestamp() - start_time)\n",
    "    table_data.append([i, genertion_time])\n",
    "    \n",
    "\n",
    "print(tabulate(table_data, headers=['Глубина', 'Время генерации, сек']), end='\\n\\n')\n",
    "# --------------------------------------------------\n",
    "        \n",
    "foreground.clear()\n",
    "depth = int(input('Введите глубину фрактала: '))\n",
    "foreground.fill_style = 'white'\n",
    "\n",
    "with hold_canvas(foreground):\n",
    "    pythagorean_tree(WIDTH / 2 - 25, HEIGHT - 50, WIDTH / 2 + 25, HEIGHT - 50, 0, -50, depth)    \n",
    "\n",
    "canvas"
   ]
  },
  {
   "cell_type": "markdown",
   "metadata": {
    "id": "diOb-K7LnO5a"
   },
   "source": [
    "### Вывод"
   ]
  },
  {
   "cell_type": "markdown",
   "metadata": {},
   "source": [
    "В ходе проделанной лабораторной работы можно сделать вывод о том, что генерацию фракталов можно достаточно просто реализовывать через рекурсивные функции, ибо по своей природе фракталы - рекурсивные структуры. Но всё же нужно учитывать, что глубина фрактала при таком подходе будет достаточно мала, так как от компьютера требуются достаточно большие вычислительные мощности."
   ]
  }
 ],
 "metadata": {
  "colab": {
   "collapsed_sections": [],
   "name": "Lab5.ipynb",
   "provenance": []
  },
  "kernelspec": {
   "display_name": "Python 3 (ipykernel)",
   "language": "python",
   "name": "python3"
  },
  "language_info": {
   "codemirror_mode": {
    "name": "ipython",
    "version": 3
   },
   "file_extension": ".py",
   "mimetype": "text/x-python",
   "name": "python",
   "nbconvert_exporter": "python",
   "pygments_lexer": "ipython3",
   "version": "3.10.2"
  }
 },
 "nbformat": 4,
 "nbformat_minor": 1
}
