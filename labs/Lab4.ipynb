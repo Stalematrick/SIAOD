{
 "cells": [
  {
   "cell_type": "markdown",
   "id": "fifteen-sailing",
   "metadata": {},
   "source": [
    "# Лабораторная работа №4\n",
    "## Выполнил студент группы Казыханов Рамиль Ильясович"
   ]
  },
  {
   "cell_type": "markdown",
   "id": "arctic-stocks",
   "metadata": {},
   "source": [
    "Реализовать следующие структуры данных:\n",
    "  \n",
    "● <b> Стек (stack): </b>  \n",
    "Операции для стека: \n",
    "<i> инициализация, проверка на пустоту, добавление нового элемента в начало, извлечение элемента из начала;  </i>  \n",
    "  \n",
    "● <b> Дек (двусторонняя очередь, deque):  </b>  \n",
    "Операции для дека: \n",
    "<i> инициализация, проверка на пустоту, добавление нового элемента в начало, добавление нового элемента в конец, извлечение элемента из начала, извлечение элемента из конца. </i>  \n",
    "  \n",
    "<i> Разработать программу обработки данных, содержащихся в заранее подготовленном txt-файле, в соответствии с заданиями, применив указанную в задании структуру данных. Результат работы программы вывести на экран и сохранить в отдельном txt-файле. </i>"
   ]
  },
  {
   "cell_type": "code",
   "execution_count": 132,
   "id": "d9451385",
   "metadata": {},
   "outputs": [],
   "source": [
    "class Stack:\n",
    "    def __init__(self, data = None):\n",
    "        if data is not None:\n",
    "            self.__data = data\n",
    "        else:\n",
    "            self.__data = []\n",
    "        \n",
    "    def is_empty(self) -> bool:\n",
    "        return len(self.__data) == 0\n",
    "    \n",
    "    def push(self, item):\n",
    "        self.__data.insert(0, item)\n",
    "        \n",
    "    def pop(self):\n",
    "        return self.__data.pop(0)\n",
    "    \n",
    "    def size(self):\n",
    "        return len(self.__data)\n",
    "    \n",
    "    def __str__(self):\n",
    "        return str(self.__data)\n",
    "    \n",
    "    def __repr__(self):\n",
    "        return self.__str__()\n",
    "\n",
    "    \n",
    "class Deque:\n",
    "    def __init__(self, data = None):\n",
    "        if data is not None:\n",
    "            self.__data = data\n",
    "        else:\n",
    "            self.__data = []\n",
    "        \n",
    "    def is_empty(self) -> bool:\n",
    "        return len(self.__data) == 0\n",
    "        \n",
    "    def push_back(self, item):\n",
    "        self.__data.append(item)\n",
    "    \n",
    "    def pop_back(self):\n",
    "        return self.__data.pop(-1)\n",
    "    \n",
    "    def push_front(self, item):\n",
    "        self.__data.insert(0, item)\n",
    "        \n",
    "    def pop_front(self):\n",
    "        return self.__data.pop(0)\n",
    "    \n",
    "    def __str__(self):\n",
    "        return str(self.__data)\n",
    "    \n",
    "    def __repr__(self):\n",
    "        return self.__str__()\n",
    "\n",
    "    \n",
    "# Тесты стека\n",
    "stack = Stack()\n",
    "stack.push(1)\n",
    "assert stack.pop() == 1\n",
    "assert stack.is_empty() == True\n",
    "\n",
    "stack = Stack()\n",
    "stack.push(1)\n",
    "stack.push(2)\n",
    "assert stack.pop() == 2\n",
    "assert stack.is_empty() == False\n",
    "assert stack.pop() == 1\n",
    "assert stack.is_empty() == True\n",
    "\n",
    "\n",
    "# Тесты двусторонней очереди\n",
    "deque = Deque()\n",
    "deque.push_back(1)\n",
    "deque.push_back(2)\n",
    "assert deque.pop_back() == 2\n",
    "assert deque.is_empty() == False\n",
    "assert deque.pop_back() == 1\n",
    "assert deque.is_empty() == True\n",
    "\n",
    "deque = Deque()\n",
    "deque.push_front(1)\n",
    "deque.push_front(2)\n",
    "assert deque.pop_front() == 2\n",
    "assert deque.is_empty() == False\n",
    "assert deque.pop_front() == 1\n",
    "assert deque.is_empty() == True\n",
    "\n",
    "deque = Deque()\n",
    "deque.push_front(1)\n",
    "deque.push_front(2)\n",
    "assert deque.pop_back() == 1\n",
    "assert deque.is_empty() == False\n",
    "assert deque.pop_back() == 2\n",
    "assert deque.is_empty() == True"
   ]
  },
  {
   "cell_type": "markdown",
   "id": "5d7edb08",
   "metadata": {
    "scrolled": true
   },
   "source": [
    "### Задание №1\n",
    "Отсортировать строки файла, содержащие названия книг, в алфавитном порядке с использованием двух деков."
   ]
  },
  {
   "cell_type": "code",
   "execution_count": 157,
   "id": "17702ade",
   "metadata": {},
   "outputs": [
    {
     "name": "stdout",
     "output_type": "stream",
     "text": [
      "['Мастер и Маргарита', 'Тихий Дон', 'Норвежский лес', 'Война и мир', 'Кафка на пляже', '1Q84', 'Судьба человека', 'Обломов', 'Гранатовый браслет', 'Преступление и наказание', 'Евгений Онегин']\n",
      "\n",
      "['1Q84', 'Война и мир', 'Гранатовый браслет', 'Евгений Онегин', 'Кафка на пляже', 'Мастер и Маргарита', 'Норвежский лес', 'Обломов', 'Преступление и наказание', 'Судьба человека', 'Тихий Дон']\n"
     ]
    }
   ],
   "source": [
    "file = open('Lab4_assets/task1_src.txt', 'r')\n",
    "deque = Deque(file.read().split('\\n'))\n",
    "print(deque)\n",
    "file.close()\n",
    "\n",
    "temp_deque = Deque()\n",
    "\n",
    "push_front_count = 1\n",
    "\n",
    "while push_front_count > 0:\n",
    "    push_front_count = 0\n",
    "    previous = deque.pop_front()\n",
    "    temp_deque.push_front(previous)\n",
    "    \n",
    "    while not deque.is_empty():\n",
    "        current = deque.pop_front()\n",
    "\n",
    "        if current > previous:\n",
    "            temp_deque.push_back(current)\n",
    "        else:\n",
    "            push_front_count += 1\n",
    "            temp_deque.push_front(current)\n",
    "            \n",
    "        previous = current\n",
    "            \n",
    "    deque, temp_deque = temp_deque, deque\n",
    "\n",
    "\n",
    "print()\n",
    "print(deque)\n",
    "file = open('Lab4_assets/task1_result.txt', 'w')\n",
    "\n",
    "while not deque.is_empty():\n",
    "    file.write(str(deque.pop_front()) + '\\n')\n",
    "\n",
    "file.close()"
   ]
  },
  {
   "cell_type": "markdown",
   "id": "49fbd2a0",
   "metadata": {},
   "source": [
    "### Задание №2\n",
    "Дек содержит последовательность символов для шифровки сообщений. Дан текстовый файл, содержащий зашифрованное сообщение. Пользуясь деком, расшифровать текст. \n",
    "Известно, что при шифровке каждый символ сообщения заменялся следующим за ним в деке по часовой стрелке через один."
   ]
  },
  {
   "cell_type": "code",
   "execution_count": 156,
   "id": "81cab7a8",
   "metadata": {},
   "outputs": [
    {
     "name": "stdout",
     "output_type": "stream",
     "text": [
      "lhddk\n",
      "okwdc\n",
      "\n",
      "hello\n",
      "world\n"
     ]
    }
   ],
   "source": [
    "file = open('Lab4_assets/task2_src.txt', 'r')\n",
    "src = file.read()\n",
    "print(src)\n",
    "file.close()\n",
    "\n",
    "keys = Deque(['o', 'c', 'k', 'f', 'b', 'e', 'p', 'h', 'r', 'l', 'w', 'd'])\n",
    "result = ''\n",
    "\n",
    "\n",
    "for symbol in src:\n",
    "    start_key = None\n",
    "    decrypted = None\n",
    "    \n",
    "    while decrypted is None:\n",
    "        key = keys.pop_back()\n",
    "        keys.push_front(key)\n",
    "        \n",
    "        if start_key is None:\n",
    "            start_key = key\n",
    "        elif start_key == key:\n",
    "            decrypted = symbol\n",
    "            break\n",
    "        \n",
    "        if symbol == key:\n",
    "            for i in range(2):\n",
    "                key = keys.pop_back()\n",
    "                keys.push_front(key)\n",
    "            decrypted = key\n",
    "    \n",
    "    result += decrypted\n",
    "\n",
    "\n",
    "print()\n",
    "print(result)\n",
    "\n",
    "file = open('Lab4_assets/task2_result.txt', 'w')\n",
    "file.write(result)\n",
    "file.close()"
   ]
  },
  {
   "cell_type": "markdown",
   "id": "c0894f47",
   "metadata": {},
   "source": [
    "### Задание №3\n",
    "Даны три стержня и n дисков различного размера. Диски можно надевать на стержни, образуя из них башни. Перенести n дисков со стержня А на стержень С, сохранив их первоначальный порядок. При переносе дисков необходимо соблюдать следующие правила:\n",
    "- на каждом шаге со стержня на стержень переносить только один диск;\n",
    "- диск нельзя помещать на диск меньшего размера;\n",
    "- для промежуточного хранения можно использовать стержень В.\n",
    "Реализовать алгоритм, используя три стека вместо стержней А, В, С. Информация о дисках хранится в исходном файле."
   ]
  },
  {
   "cell_type": "code",
   "execution_count": 135,
   "id": "9e91a9d4",
   "metadata": {},
   "outputs": [
    {
     "name": "stdout",
     "output_type": "stream",
     "text": [
      "[1, 2, 3, 6, 8, 12]\n",
      "[]\n",
      "[]\n",
      "\n",
      "[]\n",
      "[]\n",
      "[1, 2, 3, 6, 8, 12]\n"
     ]
    }
   ],
   "source": [
    "def move(a: Stack, b: Stack, c: Stack, n: int):\n",
    "    if n == 1:\n",
    "        c.push(a.pop())\n",
    "    else:\n",
    "        move(a, c, b, n - 1)\n",
    "        c.push(a.pop())\n",
    "        move(b, a, c, n - 1)\n",
    "\n",
    "\n",
    "file = open('Lab4_assets/task3_src.txt', 'r')\n",
    "a = Stack([int(i) for i in file.read().split('\\n')])\n",
    "file.close()\n",
    "\n",
    "b = Stack()\n",
    "c = Stack()\n",
    "\n",
    "print(a)\n",
    "print(b)\n",
    "print(c)\n",
    "\n",
    "move(a, b, c, a.size())\n",
    "print()\n",
    "print(a)\n",
    "print(b)\n",
    "print(c)"
   ]
  },
  {
   "cell_type": "markdown",
   "id": "e5b0be17",
   "metadata": {},
   "source": [
    "### Задание №4\n",
    "Дан текстовый файл с программой на алгоритмическом языке. За один просмотр файла проверить баланс круглых скобок в тексте, используя стек."
   ]
  },
  {
   "cell_type": "code",
   "execution_count": 152,
   "id": "5b1df60a",
   "metadata": {},
   "outputs": [
    {
     "name": "stdout",
     "output_type": "stream",
     "text": [
      "object CoreComponentHolder: ComponentHolder<\n",
      "        CoreApi, CoreDependencies\n",
      "> {\n",
      "    private var component: CoreComponent? = null\n",
      "\n",
      "    override fun init(dependencies: CoreDependencies) {\n",
      "        if (component == null) {\n",
      "            synchronized(this) {\n",
      "                if (component == null) {\n",
      "                    component = CoreComponent.initAndGet(dependencies)\n",
      "                }\n",
      "            }\n",
      "        }\n",
      "    }\n",
      "\n",
      "    override fun get(): CoreApi = getComponent()\n",
      "\n",
      "    internal fun getComponent() = requireNotNull(component)\n",
      "\n",
      "    override fun reset() {\n",
      "        component = null\n",
      "    }\n",
      "}\n",
      "\n",
      "Баланс соблюден: True\n"
     ]
    }
   ],
   "source": [
    "file = open('Lab4_assets/task4_src.txt', 'r')\n",
    "code = file.read()\n",
    "print(code)\n",
    "file.close()\n",
    "\n",
    "brackets_stack = Stack()\n",
    "failed = False\n",
    "\n",
    "for char in code:\n",
    "    if char == '(':\n",
    "        brackets_stack.push('(')\n",
    "    elif char == ')':\n",
    "        if not brackets_stack.is_empty():\n",
    "            brackets_stack.pop()\n",
    "        else:\n",
    "            failed = True\n",
    "            break\n",
    "\n",
    "\n",
    "print()\n",
    "print(f'Баланс соблюден: {not failed and brackets_stack.is_empty()}')"
   ]
  },
  {
   "cell_type": "markdown",
   "id": "c44cdd6b",
   "metadata": {},
   "source": [
    "### Задание №5\n",
    "Дан текстовый файл с программой на алгоритмическом языке. За один просмотр файла проверить баланс квадратных скобок в тексте, используя дек."
   ]
  },
  {
   "cell_type": "code",
   "execution_count": 153,
   "id": "36b8f400",
   "metadata": {},
   "outputs": [
    {
     "name": "stdout",
     "output_type": "stream",
     "text": [
      "def foo(a: int):\n",
      "\tsmth = [[1, 2], [3, 4, 5, 6], [2]]\n",
      "\tsmth[0][1] = 12\n",
      "\tif smth[1][2 == 5:\n",
      "\t\tprint([i for i in range(5)])\n",
      "\n",
      "Баланс соблюден: False\n"
     ]
    }
   ],
   "source": [
    "file = open('Lab4_assets/task5_src.txt', 'r')\n",
    "code = file.read()\n",
    "print(code)\n",
    "file.close()\n",
    "\n",
    "brackets_deque = Deque()\n",
    "failed = False\n",
    "\n",
    "for char in code:\n",
    "    if char == '[':\n",
    "        brackets_deque.push_back('[')\n",
    "    elif char == ']':\n",
    "        if not brackets_deque.is_empty():\n",
    "            brackets_deque.pop_back()\n",
    "        else:\n",
    "            failed = True\n",
    "            break\n",
    "\n",
    "\n",
    "print()\n",
    "print(f'Баланс соблюден: {not failed and brackets_deque.is_empty()}')"
   ]
  },
  {
   "cell_type": "markdown",
   "id": "59d13dc7",
   "metadata": {},
   "source": [
    "### Задание №6\n",
    "Дан файл из символов. Используя стек, за один просмотр файла напечатать сначала все цифры, затем все буквы, и, наконец, все остальные символы, сохраняя исходный порядок в каждой группе символов."
   ]
  },
  {
   "cell_type": "code",
   "execution_count": 163,
   "id": "297e36c2",
   "metadata": {},
   "outputs": [
    {
     "name": "stdout",
     "output_type": "stream",
     "text": [
      "gsdfg7657gd*&^^%&gd965g9dfgd9g8d:\"|\"?<gdfgn-\n",
      "\n",
      "7657965998gsdfggdgdgdfgdgdgdfgn*&^^%&:\"|\"?<-\n"
     ]
    }
   ],
   "source": [
    "file = open('Lab4_assets/task6_src.txt', 'r')\n",
    "src = file.read()\n",
    "print(src)\n",
    "file.close()\n",
    "\n",
    "digits_stack = Stack()\n",
    "letters_stack = Stack()\n",
    "other_stack = Stack()\n",
    "\n",
    "for char in src:\n",
    "    if char.isdigit():\n",
    "        digits_stack.push(char)\n",
    "    elif char.isalpha():\n",
    "        letters_stack.push(char)\n",
    "    else:\n",
    "        other_stack.push(char)\n",
    "        \n",
    "        \n",
    "print()\n",
    "\n",
    "digits = ''\n",
    "letters = ''\n",
    "other = ''\n",
    "        \n",
    "while not digits_stack.is_empty():\n",
    "    digits = digits_stack.pop() + digits\n",
    "    \n",
    "while not letters_stack.is_empty():\n",
    "    letters = letters_stack.pop() + letters\n",
    "    \n",
    "while not other_stack.is_empty():\n",
    "    other = other_stack.pop() + other\n",
    "    \n",
    "result = digits + letters + other\n",
    "print(result)\n",
    "\n",
    "file = open('Lab4_assets/task6_result.txt', 'w')\n",
    "file.write(result)\n",
    "file.close()"
   ]
  },
  {
   "cell_type": "markdown",
   "id": "973f68bd",
   "metadata": {},
   "source": [
    "### Задание №7\n",
    "Дан файл из целых чисел. Используя дек, за один просмотр файла напечатать сначала все отрицательные числа, затем все положительные числа, сохраняя исходный порядок в каждой группе."
   ]
  },
  {
   "cell_type": "code",
   "execution_count": 171,
   "id": "c56fad66",
   "metadata": {},
   "outputs": [
    {
     "name": "stdout",
     "output_type": "stream",
     "text": [
      "[1, 2, -3, 5, 10, -21, -4, 6, 1, -6, 7, -13, -4, -55, 1, 2]\n",
      "-3 -21 -4 -6 -13 -4 -55 1 2 5 10 6 1 7 1 2 \n"
     ]
    }
   ],
   "source": [
    "file = open('Lab4_assets/task7_src.txt', 'r')\n",
    "nums = [int(item) for item in file.read().split()]\n",
    "print(nums)\n",
    "file.close()\n",
    "\n",
    "nums_deque = Deque()\n",
    "\n",
    "for num in nums:    \n",
    "    if num < 0:\n",
    "        nums_deque.push_front(num)\n",
    "    elif num > 0:\n",
    "        nums_deque.push_back(num)\n",
    "\n",
    "result = ''\n",
    "\n",
    "while not nums_deque.is_empty():\n",
    "    num = nums_deque.pop_front()\n",
    "    \n",
    "    if num < 0:\n",
    "        result = str(num) + ' ' + result\n",
    "    else:\n",
    "        result += str(num) + ' '\n",
    "        \n",
    "print(result)\n",
    "\n",
    "file = open('Lab4_assets/task7_result.txt', 'w')\n",
    "file.write(result)\n",
    "file.close()"
   ]
  },
  {
   "cell_type": "markdown",
   "id": "b9228191",
   "metadata": {},
   "source": [
    "### Задание №8\n",
    "Дан текстовый файл. Используя стек, сформировать новый текстовый файл, содержащий строки исходного файла, записанные в обратном порядке: первая строка становится последней, вторая – предпоследней и т.д."
   ]
  },
  {
   "cell_type": "code",
   "execution_count": 179,
   "id": "981fbdfe",
   "metadata": {},
   "outputs": [
    {
     "name": "stdout",
     "output_type": "stream",
     "text": [
      "Первая строка\n",
      "Ну вот вторая строчка\n",
      "А теперь третья\n",
      "Ну надо бы еще четвёртую\n",
      "И пятая не помешает\n",
      "Допустим шестая\n",
      "Седьмая...\n",
      "Уже устал писать восьмую строчку\n",
      "Еще чутка, а пока девятая строчка\n",
      "Ну и наконец десятая строка, ура!\n",
      "\n",
      "Ну и наконец десятая строка, ура!\n",
      "Еще чутка, а пока девятая строчка\n",
      "Уже устал писать восьмую строчку\n",
      "Седьмая...\n",
      "Допустим шестая\n",
      "И пятая не помешает\n",
      "Ну надо бы еще четвёртую\n",
      "А теперь третья\n",
      "Ну вот вторая строчка\n",
      "Первая строка\n"
     ]
    }
   ],
   "source": [
    "file = open('Lab4_assets/task8_src.txt', 'r')\n",
    "lines_stack = Stack()\n",
    "\n",
    "for line in file.read().split('\\n'):\n",
    "    lines_stack.push(line)\n",
    "    print(line)\n",
    "\n",
    "file.close()\n",
    "\n",
    "print()\n",
    "\n",
    "file = open('Lab4_assets/task8_result.txt', 'w')\n",
    "\n",
    "while not lines_stack.is_empty():\n",
    "    line = lines_stack.pop()\n",
    "    print(line)\n",
    "    file.write(line + '\\n')\n",
    "    \n",
    "file.close()"
   ]
  },
  {
   "cell_type": "markdown",
   "id": "rental-jerusalem",
   "metadata": {},
   "source": [
    "### Вывод\n"
   ]
  },
  {
   "cell_type": "markdown",
   "id": "0c2b8899",
   "metadata": {},
   "source": [
    "В ходе проделанной работы можно сделать вывод о том, что такие структуры данных, как стек и очередь (двусторонняя очередь), в некоторых случаях позволяют более чётко подчеркнуть логику работы алгоритма и добавить некоторые ограничения, т.е. инкапсулировать код для работы с некоторым \"массивом\" данных."
   ]
  }
 ],
 "metadata": {
  "kernelspec": {
   "display_name": "Python 3 (ipykernel)",
   "language": "python",
   "name": "python3"
  },
  "language_info": {
   "codemirror_mode": {
    "name": "ipython",
    "version": 3
   },
   "file_extension": ".py",
   "mimetype": "text/x-python",
   "name": "python",
   "nbconvert_exporter": "python",
   "pygments_lexer": "ipython3",
   "version": "3.10.2"
  }
 },
 "nbformat": 4,
 "nbformat_minor": 5
}
